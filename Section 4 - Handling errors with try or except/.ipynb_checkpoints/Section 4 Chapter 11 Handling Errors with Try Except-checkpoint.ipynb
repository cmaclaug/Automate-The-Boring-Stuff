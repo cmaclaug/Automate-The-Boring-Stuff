{
 "cells": [
  {
   "cell_type": "code",
   "execution_count": 5,
   "metadata": {},
   "outputs": [
    {
     "name": "stdout",
     "output_type": "stream",
     "text": [
      "21.0\n",
      "3.5\n",
      "7.0\n",
      "Error: you tried to divide by zero\n",
      "None\n",
      "42.0\n"
     ]
    }
   ],
   "source": [
    "def div42By(divideBy):\n",
    "    try:\n",
    "        return 42/divideBy\n",
    "    except ZeroDivisionError:\n",
    "        print ('Error: you tried to divide by zero')\n",
    "\n",
    "print (div42By(2))\n",
    "print (div42By(12))\n",
    "print (div42By(6))\n",
    "print (div42By(0))\n",
    "print (div42By(1))\n",
    "    "
   ]
  },
  {
   "cell_type": "code",
   "execution_count": 15,
   "metadata": {},
   "outputs": [
    {
     "name": "stdout",
     "output_type": "stream",
     "text": [
      "How many cats do you own\n",
      "-3\n",
      "hmmm cant have negative cats\n"
     ]
    }
   ],
   "source": [
    "print('How many cats do you own')\n",
    "numcats = input()\n",
    "try:\n",
    "    if int(numcats)>= 4:\n",
    "        print ('thats a lot')\n",
    "    elif int(numcats)<0:\n",
    "        print ('hmmm cant have negative cats')\n",
    "    else:\n",
    "        print ('not too many')\n",
    "except ValueError:\n",
    "    print('please entere a number not a string')"
   ]
  },
  {
   "cell_type": "code",
   "execution_count": null,
   "metadata": {},
   "outputs": [],
   "source": []
  }
 ],
 "metadata": {
  "kernelspec": {
   "display_name": "Python 3",
   "language": "python",
   "name": "python3"
  },
  "language_info": {
   "codemirror_mode": {
    "name": "ipython",
    "version": 3
   },
   "file_extension": ".py",
   "mimetype": "text/x-python",
   "name": "python",
   "nbconvert_exporter": "python",
   "pygments_lexer": "ipython3",
   "version": "3.7.3"
  }
 },
 "nbformat": 4,
 "nbformat_minor": 2
}
