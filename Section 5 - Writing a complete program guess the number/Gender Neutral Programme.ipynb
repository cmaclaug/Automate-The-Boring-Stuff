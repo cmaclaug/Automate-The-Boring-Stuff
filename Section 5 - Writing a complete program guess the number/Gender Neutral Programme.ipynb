{
 "cells": [
  {
   "cell_type": "code",
   "execution_count": null,
   "metadata": {},
   "outputs": [
    {
     "name": "stdout",
     "output_type": "stream",
     "text": [
      "Hello, what is your name?\n",
      "Sam\n",
      "What is your gender\n",
      "Other\n",
      "Hmmmm, Sam I am thinking of a number between 1-20\n",
      "Take a guess\n",
      "1\n",
      "Hmmm sorry too low...whatever you are creature person\n",
      "Take a guess\n",
      "20\n",
      "OK amorphous non gender freak, bit high...like your opinion of yourslef\n",
      "Take a guess\n",
      "10\n",
      "Hmmm sorry too low...whatever you are creature person\n",
      "Take a guess\n"
     ]
    }
   ],
   "source": [
    "# This programme is a guess the number game\n",
    "import random\n",
    "\n",
    "print ('Hello, what is your name?')\n",
    "name = input()\n",
    "\n",
    "print ('What is your gender')\n",
    "gender = input()\n",
    "\n",
    "print ('Hmmmm, '+ name +' I am thinking of a number between 1-20')\n",
    "secretnumber = random.randint(1,20)\n",
    "\n",
    "if gender == 'Male':    \n",
    "    for guesses in range (1,7):\n",
    "        print ('Take a guess')\n",
    "        guess = int(input())\n",
    "    \n",
    "        if guess < secretnumber:\n",
    "            print ('Hmmm sorry too low you bastardo')\n",
    "        elif guess > secretnumber:\n",
    "            print ('OK big boy getting bit aggressive there')\n",
    "        else:\n",
    "            break #this is the correct guess\n",
    "elif gender == 'Female':    \n",
    "    for guesses in range (1,7):\n",
    "        print ('Take a guess')\n",
    "        guess = int(input())\n",
    "    \n",
    "        if guess < secretnumber:\n",
    "            print ('Hmmm sorry too low you lovely person')\n",
    "        elif guess > secretnumber:\n",
    "            print ('OK sexy lady getting bit aggressive there')\n",
    "        else:\n",
    "            break #this is the correct guess\n",
    "else:\n",
    "    for guesses in range (1,7):\n",
    "        print ('Take a guess')\n",
    "        guess = int(input())\n",
    "    \n",
    "        if guess < secretnumber:\n",
    "            print ('Hmmm sorry too low...whatever you are creature person')\n",
    "        elif guess > secretnumber:\n",
    "            print ('OK amorphous non gender freak, bit high...like your opinion of yourslef')\n",
    "        else:\n",
    "            break #this is the correct guess\n",
    "if guess == secretnumber:\n",
    "    print('Good job '+ name + ' you got it in ' + str(guesses) + ' guesses')\n",
    "else:\n",
    "    print('Nope the number I was thinking of is ' + str(secretnumber))"
   ]
  },
  {
   "cell_type": "code",
   "execution_count": null,
   "metadata": {},
   "outputs": [],
   "source": []
  },
  {
   "cell_type": "code",
   "execution_count": null,
   "metadata": {},
   "outputs": [],
   "source": []
  }
 ],
 "metadata": {
  "kernelspec": {
   "display_name": "Python 3",
   "language": "python",
   "name": "python3"
  },
  "language_info": {
   "codemirror_mode": {
    "name": "ipython",
    "version": 3
   },
   "file_extension": ".py",
   "mimetype": "text/x-python",
   "name": "python",
   "nbconvert_exporter": "python",
   "pygments_lexer": "ipython3",
   "version": "3.7.3"
  }
 },
 "nbformat": 4,
 "nbformat_minor": 2
}
