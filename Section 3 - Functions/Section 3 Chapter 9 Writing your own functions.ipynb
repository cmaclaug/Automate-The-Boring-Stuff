{
 "cells": [
  {
   "cell_type": "code",
   "execution_count": 4,
   "metadata": {},
   "outputs": [
    {
     "name": "stdout",
     "output_type": "stream",
     "text": [
      "Howdy\n",
      "Howdy!!!\n",
      "Hello there amigo\n",
      "Howdy\n",
      "Howdy!!!\n",
      "Hello there amigo\n",
      "Howdy\n",
      "Howdy!!!\n",
      "Hello there amigo\n"
     ]
    }
   ],
   "source": [
    "def hello():\n",
    "    print ('Howdy')\n",
    "    print ('Howdy!!!')\n",
    "    print ('Hello there amigo')\n",
    "hello()\n",
    "hello()\n",
    "hello()\n",
    "    "
   ]
  },
  {
   "cell_type": "code",
   "execution_count": 7,
   "metadata": {},
   "outputs": [
    {
     "name": "stdout",
     "output_type": "stream",
     "text": [
      "Howdy Alice\n",
      "Howdy Bob\n",
      "Howdy Steve\n"
     ]
    }
   ],
   "source": [
    "def hello(name):\n",
    "    print ('Howdy ' + name)\n",
    "    \n",
    "hello('Alice')\n",
    "hello('Bob')\n",
    "hello('Steve')"
   ]
  },
  {
   "cell_type": "code",
   "execution_count": 5,
   "metadata": {},
   "outputs": [
    {
     "data": {
      "text/plain": [
       "6"
      ]
     },
     "execution_count": 5,
     "metadata": {},
     "output_type": "execute_result"
    }
   ],
   "source": [
    "def plusone (number):\n",
    "    return number + 1\n",
    "\n",
    "newnumber = plusone(5)\n",
    "\n",
    "newnumber"
   ]
  },
  {
   "cell_type": "code",
   "execution_count": 6,
   "metadata": {},
   "outputs": [
    {
     "name": "stdout",
     "output_type": "stream",
     "text": [
      "hello world\n"
     ]
    }
   ],
   "source": [
    "print('hello',end=' ')\n",
    "print('world')"
   ]
  },
  {
   "cell_type": "code",
   "execution_count": 7,
   "metadata": {},
   "outputs": [
    {
     "name": "stdout",
     "output_type": "stream",
     "text": [
      "catamoustadog\n"
     ]
    }
   ],
   "source": [
    "print('cat','moust','dog',sep='a')"
   ]
  },
  {
   "cell_type": "code",
   "execution_count": null,
   "metadata": {},
   "outputs": [],
   "source": []
  }
 ],
 "metadata": {
  "kernelspec": {
   "display_name": "Python 3",
   "language": "python",
   "name": "python3"
  },
  "language_info": {
   "codemirror_mode": {
    "name": "ipython",
    "version": 3
   },
   "file_extension": ".py",
   "mimetype": "text/x-python",
   "name": "python",
   "nbconvert_exporter": "python",
   "pygments_lexer": "ipython3",
   "version": "3.7.3"
  }
 },
 "nbformat": 4,
 "nbformat_minor": 2
}
