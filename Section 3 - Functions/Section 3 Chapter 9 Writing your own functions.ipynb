{
 "cells": [
  {
   "cell_type": "code",
   "execution_count": 4,
   "metadata": {},
   "outputs": [
    {
     "name": "stdout",
     "output_type": "stream",
     "text": [
      "Howdy\n",
      "Howdy!!!\n",
      "Hello there amigo\n",
      "Howdy\n",
      "Howdy!!!\n",
      "Hello there amigo\n",
      "Howdy\n",
      "Howdy!!!\n",
      "Hello there amigo\n"
     ]
    }
   ],
   "source": [
    "def hello():\n",
    "    print ('Howdy')\n",
    "    print ('Howdy!!!')\n",
    "    print ('Hello there amigo')\n",
    "hello()\n",
    "hello()\n",
    "hello()\n",
    "    "
   ]
  },
  {
   "cell_type": "code",
   "execution_count": 7,
   "metadata": {},
   "outputs": [
    {
     "name": "stdout",
     "output_type": "stream",
     "text": [
      "Howdy Alice\n",
      "Howdy Bob\n",
      "Howdy Steve\n"
     ]
    }
   ],
   "source": [
    "def hello(name):\n",
    "    print ('Howdy ' + name)\n",
    "    \n",
    "hello('Alice')\n",
    "hello('Bob')\n",
    "hello('Steve')"
   ]
  },
  {
   "cell_type": "code",
   "execution_count": null,
   "metadata": {},
   "outputs": [],
   "source": []
  }
 ],
 "metadata": {
  "kernelspec": {
   "display_name": "Python 3",
   "language": "python",
   "name": "python3"
  },
  "language_info": {
   "codemirror_mode": {
    "name": "ipython",
    "version": 3
   },
   "file_extension": ".py",
   "mimetype": "text/x-python",
   "name": "python",
   "nbconvert_exporter": "python",
   "pygments_lexer": "ipython3",
   "version": "3.7.3"
  }
 },
 "nbformat": 4,
 "nbformat_minor": 2
}
